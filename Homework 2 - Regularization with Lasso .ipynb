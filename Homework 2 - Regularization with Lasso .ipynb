{
 "cells": [
  {
   "cell_type": "markdown",
   "metadata": {},
   "source": [
    "# Introduction\n",
    "\n",
    "\n",
    "In this homework, you'll be required to load in a dataset which has about 500 features. By using\n",
    "Lasso ($L^1$) regression, we'll find the optimal constraint on the $L^1$ norm which gives us the best\n",
    "$R^2$. Then we'll plot the results.\n",
    "\n",
    "Recall we minimize the following on ** training data: $(x_i,y_i)$**\n",
    "\n",
    "$$\\min_{\\beta} \\frac{1}{N} \\sum_{i=1}^N (y_i - \\beta \\cdot x_i)^2 + \\lambda \\|\\beta \\|_{L^1}.$$\n",
    "\n",
    "\n",
    "Denoting $\\beta_{\\lambda}$ as the minimum of the above, we then choose $\\lambda$ to maximize $R^2$ on **testing data: $(x_j,y_j)$**\n",
    "\n",
    "$$ \\max_{\\lambda} 1 - \\frac{\\sum_{j} (y_j - \\beta_{\\lambda} \\cdot x_j)^2}{\\sum_j (y_j - \\bar y)^2}$$\n"
   ]
  },
  {
   "cell_type": "markdown",
   "metadata": {},
   "source": [
    "# Lasso Regularization"
   ]
  },
  {
   "cell_type": "markdown",
   "metadata": {},
   "source": [
    "## Problem 1"
   ]
  },
  {
   "cell_type": "markdown",
   "metadata": {},
   "source": [
    "a) Load in hw2data.csv from ../data into a pandas dataframe."
   ]
  },
  {
   "cell_type": "markdown",
   "metadata": {},
   "source": [
    "b) Set to be the y variable in the dataframe from a and X to be the remaining features."
   ]
  },
  {
   "cell_type": "markdown",
   "metadata": {},
   "source": [
    "c) As shown in the Booking.com example, using Lasso regression, find the regularization strength\n",
    "which optimizes the $R^2$. \n",
    "\n",
    "**Hint:** Take a range of alpha from `np.logspace(-8,-3,1000)`"
   ]
  },
  {
   "cell_type": "markdown",
   "metadata": {},
   "source": [
    "d) Plot the training perforamnce versus the testing performance, and observe whree the test performance is\n",
    "maximized. I've written an outline of the code you need."
   ]
  },
  {
   "cell_type": "code",
   "execution_count": 1,
   "metadata": {
    "collapsed": false
   },
   "outputs": [
    {
     "name": "stderr",
     "output_type": "stream",
     "text": [
      "//anaconda/lib/python3.5/site-packages/sklearn/linear_model/coordinate_descent.py:484: ConvergenceWarning: Objective did not converge. You might want to increase the number of iterations. Fitting data with very small alpha may cause precision problems.\n",
      "  ConvergenceWarning)\n"
     ]
    },
    {
     "name": "stdout",
     "output_type": "stream",
     "text": [
      "Optimal regularization parameter : 0.000774263682681\n"
     ]
    },
    {
     "data": {
      "image/png": "[encoded data removed]",
      "text/plain": [
       "<matplotlib.figure.Figure at 0x105485c50>"
      ]
     },
     "metadata": {},
     "output_type": "display_data"
    }
   ],
   "source": [
    "import pandas as pd\n",
    "\n",
    "# part a\n",
    "df = pd.read_csv('hw2data.csv')\n",
    "df.head()\n",
    "\n",
    "# part b\n",
    "y = df['y']\n",
    "X = df.drop('y',1)\n",
    "\n",
    "# part c\n",
    "import matplotlib.pyplot as plt\n",
    "import numpy as np\n",
    "%matplotlib inline\n",
    "import scipy.stats as st\n",
    "from sklearn.linear_model import Lasso\n",
    "import seaborn\n",
    "plt.subplot(2, 1, 1)\n",
    "\n",
    "# Split the data into training/testing sets\n",
    "size = 225\n",
    "X_train = X[0:int(size*0.8)]\n",
    "X_test = X[int(size*0.8):]\n",
    "\n",
    "# Split the targets into training/testing sets\n",
    "y_train = y[0:int(size*0.8)]\n",
    "y_test = y[int(size*0.8):]\n",
    "\n",
    "# Create linear regression object\n",
    "alphas = np.logspace(-8,3,1000)\n",
    "\n",
    "train_errors=[]\n",
    "test_errors=[]\n",
    "\n",
    "for alpha in alphas:\n",
    "    regr = Lasso(alpha=alpha)\n",
    "\n",
    "    # Train the model using the training sets\n",
    "    regr.fit(X_train, y_train)\n",
    "    train_errors.append(regr.score(X_train, y_train))\n",
    "    test_errors.append(regr.score(X_test, y_test))\n",
    "\n",
    "i_alpha_optim=np.argmax(test_errors)\n",
    "alpha_optim = alphas[i_alpha_optim]\n",
    "print(\"Optimal regularization parameter : %s\" % alpha_optim)\n",
    "\n",
    "# part d\n",
    "plt.semilogx(alphas, train_errors, label='Train')\n",
    "plt.semilogx(alphas, test_errors, label='Test')\n",
    "plt.vlines(alpha_optim, plt.ylim()[0], np.max(test_errors), color='k',\n",
    "           linewidth=3, label='Optimum on test')\n",
    "plt.legend(loc='lower left')\n",
    "plt.ylim([0, 1.2])\n",
    "plt.xlabel('Regularization parameter')\n",
    "plt.ylabel('Performance')\n",
    "\n",
    "plt.show()"
   ]
  },
  {
   "cell_type": "markdown",
   "metadata": {},
   "source": [
    "e) Plot the top coefficients based on this optimal parameter. Why do you think so many are zero?\n",
    "\n",
    "Many coefficients are zero since in the Lasso regression tends to result in sparser coefficients. Since the constraint is |B1| + |B2| = C, the level sets are mostly likely to be tangent at a corner where B1=B2=0. Both B1 and B2 are non-zero in only 4 directions, so it is very unlikely that the level sets is tangent to these 4 directions. "
   ]
  },
  {
   "cell_type": "code",
   "execution_count": 2,
   "metadata": {
    "collapsed": false
   },
   "outputs": [
    {
     "name": "stderr",
     "output_type": "stream",
     "text": [
      "//anaconda/lib/python3.5/site-packages/ipykernel/__main__.py:1: VisibleDeprecationWarning: using a non-integer number instead of an integer will result in an error in the future\n",
      "  if __name__ == '__main__':\n",
      "//anaconda/lib/python3.5/site-packages/ipykernel/__main__.py:8: FutureWarning: sort(columns=....) is deprecated, use sort_values(by=.....)\n"
     ]
    },
    {
     "data": {
      "text/plain": [
       "array([  2.68495533e+00,   2.42528708e+00,   2.36621758e+00,\n",
       "         1.85107135e+00,   1.78851718e+00,   1.45075541e+00,\n",
       "         1.41562713e+00,   1.33163561e+00,   1.25595758e+00,\n",
       "         1.07063566e+00,   1.00459600e+00,   9.93738760e-01,\n",
       "         8.83775415e-01,   8.57979843e-01,   8.37247658e-01,\n",
       "         7.94164494e-01,   5.98606959e-01,   5.39814097e-01,\n",
       "         4.79695868e-01,   4.69323230e-01,   4.42128325e-01,\n",
       "         3.79240735e-01,   3.60841625e-01,   3.53770339e-01,\n",
       "         3.46575455e-01,   3.34381838e-01,   3.26274831e-01,\n",
       "         3.11349040e-01,   3.08010402e-01,   3.00256150e-01,\n",
       "         2.97425427e-01,   2.86345364e-01,   2.84292495e-01,\n",
       "         2.53653931e-01,   2.53195333e-01,   2.51887292e-01,\n",
       "         2.45806446e-01,   2.42294692e-01,   2.42213573e-01,\n",
       "         2.31668065e-01,   2.24889290e-01,   2.23875271e-01,\n",
       "         2.23023680e-01,   2.22805723e-01,   2.21845266e-01,\n",
       "         2.18096058e-01,   2.16076218e-01,   2.05640352e-01,\n",
       "         2.04866321e-01,   1.94657449e-01,   1.92612527e-01,\n",
       "         1.92060682e-01,   1.91154948e-01,   1.86622140e-01,\n",
       "         1.82355840e-01,   1.76162378e-01,   1.75357120e-01,\n",
       "         1.72578093e-01,   1.72257330e-01,   1.68744608e-01,\n",
       "         1.67240157e-01,   1.66047249e-01,   1.65922828e-01,\n",
       "         1.64718218e-01,   1.62525498e-01,   1.62090249e-01,\n",
       "         1.61522466e-01,   1.60558380e-01,   1.58501136e-01,\n",
       "         1.58019681e-01,   1.56260847e-01,   1.54034907e-01,\n",
       "         1.52611044e-01,   1.47261469e-01,   1.46915981e-01,\n",
       "         1.46303603e-01,   1.45099503e-01,   1.42944791e-01,\n",
       "         1.42441102e-01,   1.41088505e-01,   1.39200996e-01,\n",
       "         1.36307397e-01,   1.35868460e-01,   1.35735157e-01,\n",
       "         1.35418016e-01,   1.32336769e-01,   1.32137789e-01,\n",
       "         1.31165756e-01,   1.29416558e-01,   1.27475478e-01,\n",
       "         1.25334704e-01,   1.23430884e-01,   1.22094126e-01,\n",
       "         1.21858578e-01,   1.21845356e-01,   1.21806080e-01,\n",
       "         1.21054638e-01,   1.20119302e-01,   1.18626090e-01,\n",
       "         1.17333173e-01,   1.14627230e-01,   1.13692050e-01,\n",
       "         1.12932308e-01,   1.11693483e-01,   1.11188498e-01,\n",
       "         1.10482530e-01,   1.09625427e-01,   1.08877509e-01,\n",
       "         1.08387567e-01,   1.07520867e-01,   1.06587481e-01,\n",
       "         1.04537221e-01,   1.03376232e-01,   1.02865699e-01,\n",
       "         1.02508683e-01,   1.02463571e-01,   1.02239077e-01,\n",
       "         1.00592033e-01,   9.95845247e-02,   9.63174158e-02,\n",
       "         9.59873569e-02,   9.59023360e-02,   9.54246265e-02,\n",
       "         9.51606785e-02,   9.29956587e-02,   9.26683570e-02,\n",
       "         9.19409770e-02,   9.16426208e-02,   9.05480263e-02,\n",
       "         9.00585082e-02,   8.87941695e-02,   8.86591242e-02,\n",
       "         8.80974822e-02,   8.73338326e-02,   8.69602686e-02,\n",
       "         8.68084736e-02,   8.64323541e-02,   8.61260537e-02,\n",
       "         8.56241177e-02,   8.54510368e-02,   8.53607633e-02,\n",
       "         8.25351950e-02,   8.24626984e-02,   8.13894705e-02,\n",
       "         8.07405108e-02,   7.97165957e-02,   7.95260887e-02,\n",
       "         7.84783873e-02,   7.76689257e-02,   7.67016707e-02,\n",
       "         7.62498555e-02,   7.46183178e-02,   7.44036954e-02,\n",
       "         7.35754859e-02,   7.19948964e-02,   7.19385789e-02,\n",
       "         7.18305278e-02,   7.15740994e-02,   7.00661723e-02,\n",
       "         6.81722114e-02,   6.79482274e-02,   6.76263930e-02,\n",
       "         6.76130008e-02,   6.32014445e-02,   6.07782623e-02,\n",
       "         5.97894643e-02,   5.93533472e-02,   5.86879835e-02,\n",
       "         5.67468941e-02,   5.66223390e-02,   5.64022046e-02,\n",
       "         5.62530263e-02,   5.55847187e-02,   5.54728718e-02,\n",
       "         5.53388696e-02,   5.44907069e-02,   5.43460721e-02,\n",
       "         5.28882008e-02,   5.28130584e-02,   5.24405262e-02,\n",
       "         5.08441843e-02,   5.03373738e-02,   5.03010386e-02,\n",
       "         4.96794129e-02,   4.92847262e-02,   4.82932868e-02,\n",
       "         4.75432046e-02,   4.75268995e-02,   4.73821224e-02,\n",
       "         4.70315272e-02,   4.66587288e-02,   4.54509679e-02,\n",
       "         4.54114968e-02,   4.42623772e-02,   4.38507163e-02,\n",
       "         4.32883754e-02,   4.27569662e-02,   4.18313512e-02,\n",
       "         4.12019875e-02,   4.10138052e-02,   4.01117408e-02,\n",
       "         4.00792785e-02,   4.00654918e-02,   3.86159326e-02,\n",
       "         3.85888082e-02,   3.74645795e-02,   3.63906946e-02,\n",
       "         3.55141938e-02,   3.28078221e-02,   3.13535496e-02,\n",
       "         3.07143570e-02,   3.02243972e-02,   3.00940661e-02,\n",
       "         3.00381838e-02,   2.97288726e-02,   2.96356580e-02,\n",
       "         2.93148963e-02,   2.91683609e-02,   2.80103757e-02,\n",
       "         2.64035586e-02,   2.58356527e-02,   2.54703977e-02,\n",
       "         2.48888177e-02,   2.48163003e-02,   2.43384159e-02,\n",
       "         2.36267968e-02,   2.31084009e-02,   2.26774284e-02,\n",
       "         2.22068812e-02,   2.09892019e-02,   2.05734542e-02,\n",
       "         1.95441113e-02,   1.87629185e-02,   1.83194545e-02,\n",
       "         1.82586404e-02,   1.80357963e-02,   1.79718064e-02,\n",
       "         1.74197173e-02,   1.71207563e-02,   1.69231461e-02,\n",
       "         1.63482679e-02,   1.60116524e-02,   1.56770312e-02,\n",
       "         1.53215665e-02,   1.49852279e-02,   1.36245954e-02,\n",
       "         1.28585498e-02,   1.22419667e-02,   1.10241888e-02,\n",
       "         1.06075781e-02,   1.04848017e-02,   9.67962707e-03,\n",
       "         9.66130969e-03,   8.71319110e-03,   8.42917871e-03,\n",
       "         8.36802267e-03,   7.66642224e-03,   6.79925071e-03,\n",
       "         5.64536380e-03,   4.82788528e-03,   4.22865264e-03,\n",
       "         3.81054936e-03,   3.64605866e-03,   3.26555484e-03,\n",
       "         2.45987705e-03,   1.16246973e-03,   1.08663163e-03,\n",
       "         6.01885282e-04,   5.97011405e-04,   1.13305991e-04,\n",
       "        -2.07664531e-04,  -3.62185303e-04,  -4.61421210e-04,\n",
       "        -6.30818813e-04,  -9.35171278e-04,  -9.71085711e-04,\n",
       "        -1.74023157e-03,  -1.75214370e-03,  -2.85804905e-03,\n",
       "        -3.37842853e-03,  -3.50107175e-03,  -3.96463385e-03,\n",
       "        -5.16232024e-03,  -7.46752994e-03,  -7.61226696e-03,\n",
       "        -7.76057816e-03,  -8.18479394e-03,  -8.34076658e-03,\n",
       "        -9.10874018e-03,  -9.12691564e-03,  -9.34248640e-03,\n",
       "        -1.04317216e-02,  -1.18848457e-02,  -1.19083415e-02,\n",
       "        -1.29927122e-02,  -1.43114715e-02,  -1.61788459e-02,\n",
       "        -1.64003382e-02,  -1.73908546e-02,  -1.79556065e-02,\n",
       "        -1.83269713e-02,  -1.99325151e-02,  -2.02720087e-02,\n",
       "        -2.03488453e-02,  -2.14948138e-02,  -2.15450304e-02,\n",
       "        -2.16845299e-02,  -2.23859163e-02,  -2.27039173e-02,\n",
       "        -2.29027267e-02,  -2.30651140e-02,  -2.37510047e-02,\n",
       "        -2.38571761e-02,  -2.41853847e-02,  -2.42146545e-02,\n",
       "        -2.50645676e-02,  -2.54653713e-02,  -2.56586111e-02,\n",
       "        -2.58875509e-02,  -2.69141245e-02,  -2.79825842e-02,\n",
       "        -2.89273391e-02,  -3.08116951e-02,  -3.09356343e-02,\n",
       "        -3.11093727e-02,  -3.14523409e-02,  -3.25118680e-02,\n",
       "        -3.30478977e-02,  -3.32089413e-02,  -3.45393846e-02,\n",
       "        -3.49428492e-02,  -3.61302642e-02,  -3.62073461e-02,\n",
       "        -3.64220752e-02,  -3.64526022e-02,  -3.73949530e-02,\n",
       "        -3.79091105e-02,  -3.79573456e-02,  -3.83456941e-02,\n",
       "        -3.86932407e-02,  -3.91172435e-02,  -3.93205344e-02,\n",
       "        -4.26859591e-02,  -4.35849463e-02,  -4.41679348e-02,\n",
       "        -4.42979911e-02,  -4.45262574e-02,  -4.50106196e-02,\n",
       "        -4.84317107e-02,  -4.91225737e-02,  -4.98661782e-02,\n",
       "        -4.99950786e-02,  -5.08704090e-02,  -5.09016994e-02,\n",
       "        -5.14875505e-02,  -5.16372499e-02,  -5.30340735e-02,\n",
       "        -5.37856469e-02,  -5.46694442e-02,  -5.51828794e-02,\n",
       "        -5.58523689e-02,  -5.58784089e-02,  -5.63463641e-02,\n",
       "        -5.94871066e-02,  -5.95663516e-02,  -6.01904773e-02,\n",
       "        -6.02017765e-02,  -6.07412468e-02,  -6.23487752e-02,\n",
       "        -6.24566903e-02,  -6.47031561e-02,  -6.54488126e-02,\n",
       "        -6.62877101e-02,  -6.74060590e-02,  -6.82048280e-02,\n",
       "        -6.90672469e-02,  -6.97879855e-02,  -7.06468566e-02,\n",
       "        -7.07876517e-02,  -7.21620460e-02,  -7.48106238e-02,\n",
       "        -7.76884035e-02,  -7.92543952e-02,  -8.08440948e-02,\n",
       "        -8.08722777e-02,  -8.09095127e-02,  -8.18249671e-02,\n",
       "        -8.24695804e-02,  -8.37769854e-02,  -8.42841950e-02,\n",
       "        -8.64168573e-02,  -9.12622108e-02,  -9.16674948e-02,\n",
       "        -9.60932728e-02,  -9.61181839e-02,  -9.61434211e-02,\n",
       "        -9.73043135e-02,  -9.90725683e-02,  -9.92857075e-02,\n",
       "        -9.95334432e-02,  -1.04162642e-01,  -1.04812869e-01,\n",
       "        -1.07314235e-01,  -1.08424407e-01,  -1.08743706e-01,\n",
       "        -1.10538950e-01,  -1.11094431e-01,  -1.11464968e-01,\n",
       "        -1.11649615e-01,  -1.12164367e-01,  -1.12534038e-01,\n",
       "        -1.12556763e-01,  -1.12584756e-01,  -1.13173164e-01,\n",
       "        -1.13903189e-01,  -1.15931091e-01,  -1.16511690e-01,\n",
       "        -1.16911103e-01,  -1.17278914e-01,  -1.18759591e-01,\n",
       "        -1.20221431e-01,  -1.21709616e-01,  -1.23065016e-01,\n",
       "        -1.23134879e-01,  -1.25019830e-01,  -1.27921687e-01,\n",
       "        -1.30998282e-01,  -1.33701317e-01,  -1.33729105e-01,\n",
       "        -1.35904029e-01,  -1.37032541e-01,  -1.38303345e-01,\n",
       "        -1.38922038e-01,  -1.41657576e-01,  -1.42584682e-01,\n",
       "        -1.42878712e-01,  -1.43489735e-01,  -1.43571947e-01,\n",
       "        -1.43823448e-01,  -1.45596710e-01,  -1.50220882e-01,\n",
       "        -1.51918228e-01,  -1.56739687e-01,  -1.57516947e-01,\n",
       "        -1.60388666e-01,  -1.61533156e-01,  -1.62941614e-01,\n",
       "        -1.63500947e-01,  -1.70198660e-01,  -1.73079844e-01,\n",
       "        -1.74211468e-01,  -1.75723287e-01,  -1.78130688e-01,\n",
       "        -1.79429475e-01,  -1.81774875e-01,  -1.87691826e-01,\n",
       "        -1.89462995e-01,  -1.90882438e-01,  -1.92269966e-01,\n",
       "        -1.98580415e-01,  -1.99342572e-01,  -2.07316705e-01,\n",
       "        -2.21747218e-01,  -2.26648783e-01,  -2.28426070e-01,\n",
       "        -2.38710865e-01,  -2.38724372e-01,  -2.42421855e-01,\n",
       "        -2.48391704e-01,  -2.56581150e-01,  -2.59989132e-01,\n",
       "        -2.61048931e-01,  -2.66461703e-01,  -2.78722176e-01,\n",
       "        -2.79029669e-01,  -2.84498771e-01,  -2.93194033e-01,\n",
       "        -3.01247214e-01,  -3.04692014e-01,  -3.10402412e-01,\n",
       "        -3.13863133e-01,  -3.44219763e-01,  -3.72172549e-01,\n",
       "        -4.43219535e-01,  -5.02559240e-01,  -5.20301781e-01,\n",
       "        -6.60584485e-01,  -6.81860541e-01,  -7.68008552e-01,\n",
       "        -7.79163052e-01,  -8.55778256e-01,  -9.00613402e-01,\n",
       "        -1.05341079e+00,  -1.19925566e+00,  -1.31600934e+00,\n",
       "        -1.40958347e+00,  -1.51885106e+00,  -1.72183260e+00,\n",
       "        -1.88907734e+00,  -3.43030332e+00])"
      ]
     },
     "execution_count": 2,
     "metadata": {},
     "output_type": "execute_result"
    },
    {
     "data": {
      "image/png": "[encoded data removed]",
      "text/plain": [
       "<matplotlib.figure.Figure at 0x10f472630>"
      ]
     },
     "metadata": {},
     "output_type": "display_data"
    }
   ],
   "source": [
    "# part e\n",
    "regr = Lasso(alpha=alphas[alpha_optim])\n",
    "regr.fit(X_train,y_train)\n",
    "regr.coef_\n",
    "[round(x,2) for x in range(len(regr.coef_))]\n",
    "len(regr.coef_)\n",
    "len(df.columns)\n",
    "df_coeffs = pd.DataFrame({'coeffs':regr.coef_})\n",
    "df_coeffs=df_coeffs.sort(['coeffs'])\n",
    "df_coeffs[::-1].plot(y='coeffs',kind='bar')\n",
    "df_coeffs[::-1]['coeffs'].values"
   ]
  },
  {
   "cell_type": "markdown",
   "metadata": {},
   "source": [
    "f) Compute the $R^2$ with the optimal coefficient found above on 5 folds using cross_val_score and plot the\n",
    "results. Does the model work well on all random subsets?\n",
    "\n",
    "The model appears to work well on all random subsets. It works best on cross fold 3 but slightly worse on cross folds 1 and 5. "
   ]
  },
  {
   "cell_type": "code",
   "execution_count": null,
   "metadata": {
    "collapsed": false
   },
   "outputs": [],
   "source": [
    "import scipy\n",
    "import numpy\n",
    "import pandas\n",
    "import matplotlib\n",
    "from sklearn.linear_model import Lasso\n",
    "from sklearn.model_selection import cross_val_score"
   ]
  },
  {
   "cell_type": "code",
   "execution_count": null,
   "metadata": {
    "collapsed": false
   },
   "outputs": [],
   "source": []
  },
  {
   "cell_type": "code",
   "execution_count": 7,
   "metadata": {
    "collapsed": false
   },
   "outputs": [
    {
     "name": "stderr",
     "output_type": "stream",
     "text": [
      "//anaconda/lib/python3.5/site-packages/ipykernel/__main__.py:1: VisibleDeprecationWarning: using a non-integer number instead of an integer will result in an error in the future\n",
      "  if __name__ == '__main__':\n"
     ]
    },
    {
     "data": {
      "image/png": "[encoded data removed]",
      "text/plain": [
       "<matplotlib.figure.Figure at 0x119bcb9b0>"
      ]
     },
     "metadata": {},
     "output_type": "display_data"
    }
   ],
   "source": [
    "regr = Lasso(alpha=alphas[alpha_optim])\n",
    "scores = cross_val_score(regr, X, y, cv=5)\n",
    "plt.ylim([-1,1])\n",
    "plt.xlabel('lambda')\n",
    "plt.ylabel('R^2')\n",
    "plt.title('Performance on 5 folds with lambda=' + str(alpha))\n",
    "plt.bar(range(1,6),scores)\n",
    "plt.show()"
   ]
  },
  {
   "cell_type": "markdown",
   "metadata": {},
   "source": [
    "f) Repeat e) but using cross validation. Use error bars on the features which are the standard deviation of the \n",
    "coefficiens obtained above. For this problem I\"ll walk you through the code. You just need to apply your optimal\n",
    "$\\alpha$ found above. "
   ]
  },
  {
   "cell_type": "code",
   "execution_count": 8,
   "metadata": {
    "collapsed": false
   },
   "outputs": [
    {
     "name": "stderr",
     "output_type": "stream",
     "text": [
      "//anaconda/lib/python3.5/site-packages/sklearn/cross_validation.py:44: DeprecationWarning: This module was deprecated in version 0.18 in favor of the model_selection module into which all the refactored classes and functions are moved. Also note that the interface of the new CV iterators are different from that of this module. This module will be removed in 0.20.\n",
      "  \"This module will be removed in 0.20.\", DeprecationWarning)\n",
      "//anaconda/lib/python3.5/site-packages/sklearn/linear_model/coordinate_descent.py:484: ConvergenceWarning: Objective did not converge. You might want to increase the number of iterations. Fitting data with very small alpha may cause precision problems.\n",
      "  ConvergenceWarning)\n"
     ]
    }
   ],
   "source": [
    "from sklearn.cross_validation import KFold\n",
    "from sklearn import preprocessing\n",
    "def run_cv_coeffs(X,y,clf_class,**kwargs):\n",
    "    # Construct a kfolds object\n",
    "    kf = KFold(len(y),n_folds=5,shuffle=True)\n",
    "    y_pred = y.copy()\n",
    "    coeffs=[]\n",
    "    # Iterate through folds\n",
    "    for train_index, test_index in kf:\n",
    "        \n",
    "        X_train, X_test = X[train_index], X[test_index]\n",
    "        y_train = y[train_index]\n",
    "        # Initialize a classifier with key word arguments\n",
    "        clf = clf_class(**kwargs)\n",
    "        clf.fit(X_train,y_train)\n",
    "        y_pred[test_index] = clf.predict(X_test)\n",
    "        coeffs.append(clf.coef_)\n",
    "    return coeffs\n",
    "\n",
    "\n",
    "\n",
    "scaler = preprocessing.StandardScaler()\n",
    "X_scaled = X.as_matrix().astype(np.float)\n",
    "X_scaled = scaler.fit_transform(X)\n",
    "\n",
    "coeffs=run_cv_coeffs(X_scaled,np.array(y),Lasso,alpha=alpha_optim)"
   ]
  },
  {
   "cell_type": "code",
   "execution_count": 9,
   "metadata": {
    "collapsed": false
   },
   "outputs": [],
   "source": [
    "def get_coeffs(coeffs):\n",
    "    coeffs_avgd = [(coeffs[0][i] + coeffs[1][i] + coeffs[2][i] + coeffs[3][i] + coeffs[4][i])/5 for i in range(0,len(X.columns))]\n",
    "    coeffs_std = [np.std([coeffs[0][i],coeffs[1][i],coeffs[2][i],coeffs[3][i],coeffs[4][i]]) for i in range(0,len(X.columns))]\n",
    "    return coeffs_avgd, coeffs_std\n",
    "coeffs_avg,coeffs_std=get_coeffs(coeffs)"
   ]
  },
  {
   "cell_type": "code",
   "execution_count": 10,
   "metadata": {
    "collapsed": false
   },
   "outputs": [
    {
     "name": "stderr",
     "output_type": "stream",
     "text": [
      "//anaconda/lib/python3.5/site-packages/ipykernel/__main__.py:4: FutureWarning: sort(columns=....) is deprecated, use sort_values(by=.....)\n"
     ]
    },
    {
     "data": {
      "text/plain": [
       "<matplotlib.axes._subplots.AxesSubplot at 0x118934b70>"
      ]
     },
     "execution_count": 10,
     "metadata": {},
     "output_type": "execute_result"
    },
    {
     "data": {
      "text/plain": [
       "<matplotlib.figure.Figure at 0x10f47db00>"
      ]
     },
     "metadata": {},
     "output_type": "display_data"
    },
    {
     "data": {
      "image/png": "[encoded data removed]",
      "text/plain": [
       "<matplotlib.figure.Figure at 0x10d921a90>"
      ]
     },
     "metadata": {},
     "output_type": "display_data"
    }
   ],
   "source": [
    "dfCoeffs = pd.DataFrame({'type':X.columns.values, 'coef':coeffs_avg, 'std':coeffs_std})\n",
    "dfCoeffs = dfCoeffs[(dfCoeffs['coef']>1) |(dfCoeffs['coef']<-1) ]\n",
    "plt.figure(figsize=(15,15))\n",
    "dfCoeffs_sorted = dfCoeffs.sort(['coef'])[::-1]\n",
    "yerr_vals = dfCoeffs_sorted['std'].values\n",
    "dfCoeffs_sorted.plot(x='type',y='coef',kind='bar',yerr=yerr_vals,figsize=(15,15))"
   ]
  },
  {
   "cell_type": "code",
   "execution_count": null,
   "metadata": {
    "collapsed": true
   },
   "outputs": [],
   "source": []
  }
 ],
 "metadata": {
  "anaconda-cloud": {},
  "kernelspec": {
   "display_name": "Python [Root]",
   "language": "python",
   "name": "Python [Root]"
  },
  "language_info": {
   "codemirror_mode": {
    "name": "ipython",
    "version": 3
   },
   "file_extension": ".py",
   "mimetype": "text/x-python",
   "name": "python",
   "nbconvert_exporter": "python",
   "pygments_lexer": "ipython3",
   "version": "3.5.2"
  }
 },
 "nbformat": 4,
 "nbformat_minor": 1
}
