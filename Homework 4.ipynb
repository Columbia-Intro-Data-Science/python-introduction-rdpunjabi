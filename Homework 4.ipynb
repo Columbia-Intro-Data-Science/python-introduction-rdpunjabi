{
 "cells": [
  {
   "cell_type": "markdown",
   "metadata": {},
   "source": [
    "# Homework 4"
   ]
  },
  {
   "cell_type": "markdown",
   "metadata": {},
   "source": [
    "1. Give a count of all videos currently out.\n",
    "\n",
    "SELECT COUNT(inventory_id) FROM rental WHERE return_date IS NULL\n",
    "\n",
    "Output: 183"
   ]
  },
  {
   "cell_type": "markdown",
   "metadata": {
    "collapsed": true
   },
   "source": [
    "2. Make a list of all customer names who have videos out and how much they owe.\n",
    "\n",
    "SELECT c.first_name, c.last_name, p.amount\n",
    "FROM rental r\n",
    "INNER JOIN customer c on c.customer_id = r.customer_id\n",
    "INNER JOIN payment p on p.rental_id = r.rental_id\n",
    "WHERE r.return_date IS NULL\n",
    "GROUP BY c.first_name, c.last_name, p.amount\n",
    "ORDER BY p.amount DESC\n",
    "\n",
    "Output:"
   ]
  },
  {
   "cell_type": "code",
   "execution_count": null,
   "metadata": {
    "collapsed": true
   },
   "outputs": [],
   "source": []
  },
  {
   "cell_type": "markdown",
   "metadata": {},
   "source": [
    "3. What hour of the day to people rent the most?\n",
    "\n",
    "SELECT hour, count(*)\n",
    "FROM (SELECT EXTRACT(hour FROM rental_date) AS hour FROM rental) AS hour\n",
    "GROUP BY hour\n",
    "ORDER BY count DESC\n",
    "\n",
    "Output: \n",
    "\n",
    "Ans: 15:00 (aka 3 pm)"
   ]
  },
  {
   "cell_type": "code",
   "execution_count": null,
   "metadata": {
    "collapsed": true
   },
   "outputs": [],
   "source": [
    "4. Which store is more profitable, assuming all movies cost $15 per inventory item to purchase? \n",
    "\n",
    "SELECT i.store_id, ss.total_sales, 15*COUNT(i.inventory_id) AS Revenue, (ss.total_sales - 15*COUNT(i.inventory_id)) as Profit\n",
    "FROM sales_by_store ss\n",
    "INNER JOIN staff_list s on s.name = ss.manager\n",
    "INNER JOIN inventory i on i.store_id = s.sid\n",
    "GROUP BY i.store_id, ss.total_sales\n",
    "ORDER BY Profit DESC\n",
    "\n",
    "Output:\n",
    "    \n",
    "Ans: Store 1 is more profitable than Store 2. "
   ]
  }
 ],
 "metadata": {
  "anaconda-cloud": {},
  "kernelspec": {
   "display_name": "Python [Root]",
   "language": "python",
   "name": "Python [Root]"
  },
  "language_info": {
   "codemirror_mode": {
    "name": "ipython",
    "version": 3
   },
   "file_extension": ".py",
   "mimetype": "text/x-python",
   "name": "python",
   "nbconvert_exporter": "python",
   "pygments_lexer": "ipython3",
   "version": "3.5.2"
  }
 },
 "nbformat": 4,
 "nbformat_minor": 0
}
